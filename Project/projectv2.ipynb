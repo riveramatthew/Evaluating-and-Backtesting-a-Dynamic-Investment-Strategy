{
 "cells": [
  {
   "cell_type": "markdown",
   "id": "b4da38ad",
   "metadata": {
    "jp-MarkdownHeadingCollapsed": true
   },
   "source": [
    "# 0. Introduction\n",
    "Welcome to the Risk-Parity Portfolio Analysis project! In this project, you'll explore the concept of risk-parity, a popular portfolio management strategy that aims to allocate investments in a way that equalizes the risk contribution of each asset. This approach is widely used by hedge funds and institutional investors to create more balanced portfolios that are less sensitive to market volatility.\n",
    "\n",
    "Throughout this project, you'll learn how to download financial data for various assets, calculate returns, and compute risk-parity weights using Python. By the end, you'll evaluate the performance of your risk-parity portfolio through key financial metrics such as annualized return, volatility, and Sharpe ratio. This hands-on experience will deepen your understanding of portfolio management and give you practical skills in financial data analysis. Whether you're new to finance or looking to enhance your quantitative finance skills, this project provides a solid foundation in risk-parity strategies and their application in real-world scenarios.\n",
    "\n",
    "## Getting Started: Tips and Instructions\n",
    "\n",
    "1. **Familiarize Yourself with the Notebook Structure:**\n",
    "   - The notebook is organized into clearly defined sections, each focusing on a specific aspect of the risk-parity portfolio analysis. Take a moment to glance through the sections to understand the overall workflow.\n",
    "\n",
    "2. **Review the Data:**\n",
    "   - Since the data is already available, start by exploring the initial few cells to understand the data structure and what each column represents. This will give you context for the calculations and analysis you'll be performing.\n",
    "\n",
    "3. **Run Cells Sequentially:**\n",
    "   - Work through the notebook by executing each code cell in order. This will help you build your analysis step by step and ensure that each part of the project is functioning as expected.\n",
    "\n",
    "4. **Experiment with Parameters:**\n",
    "   - Feel free to tweak parameters such as the rolling window size for calculating risk-parity weights or adjust the assets included in the portfolio. Experimenting will help deepen your understanding of how these factors influence portfolio performance.\n",
    "\n",
    "5. **Leverage the Plots:**\n",
    "   - Use the generated plots to visually assess the impact of your calculations. The visualizations are crucial for understanding the risk-parity approach and how different assets contribute to the portfolio.\n",
    "\n",
    "6. **Reflect:**\n",
    "   - As you work through the notebook, consider why each step is necessary and how it contributes to the overall goal of building a risk-parity portfolio. If something isn’t clear, take a moment to reflect or explore additional resources.\n",
    "\n",
    "Enjoy the process of exploring risk-parity strategies, and don't hesitate to dive deeper into the data or code to enhance your learning experience!"
   ]
  },
  {
   "cell_type": "markdown",
   "id": "c6dc699e",
   "metadata": {},
   "source": [
    "# 1. Import Libraries"
   ]
  },
  {
   "cell_type": "code",
   "execution_count": 6,
   "id": "b9b6ca97",
   "metadata": {},
   "outputs": [
    {
     "name": "stdout",
     "output_type": "stream",
     "text": [
      "Requirement already satisfied: yfinance in /opt/venv/lib/python3.10/site-packages (0.2.54)\n",
      "Collecting yfinance\n",
      "  Downloading yfinance-0.2.65-py2.py3-none-any.whl (119 kB)\n",
      "\u001b[2K     \u001b[90m━━━━━━━━━━━━━━━━━━━━━━━━━━━━━━━━━━━━━━━\u001b[0m \u001b[32m119.4/119.4 kB\u001b[0m \u001b[31m3.1 MB/s\u001b[0m eta \u001b[36m0:00:00\u001b[0ma \u001b[36m0:00:01\u001b[0m\n",
      "\u001b[?25hRequirement already satisfied: multitasking>=0.0.7 in /opt/venv/lib/python3.10/site-packages (from yfinance) (0.0.11)\n",
      "Requirement already satisfied: pandas>=1.3.0 in /opt/venv/lib/python3.10/site-packages (from yfinance) (2.1.4)\n",
      "Requirement already satisfied: requests>=2.31 in /opt/venv/lib/python3.10/site-packages (from yfinance) (2.32.3)\n",
      "Requirement already satisfied: frozendict>=2.3.4 in /opt/venv/lib/python3.10/site-packages (from yfinance) (2.4.6)\n",
      "Requirement already satisfied: pytz>=2022.5 in /opt/venv/lib/python3.10/site-packages (from yfinance) (2025.1)\n",
      "Requirement already satisfied: peewee>=3.16.2 in /opt/venv/lib/python3.10/site-packages (from yfinance) (3.17.9)\n",
      "Requirement already satisfied: beautifulsoup4>=4.11.1 in /opt/venv/lib/python3.10/site-packages (from yfinance) (4.13.3)\n",
      "Collecting protobuf>=3.19.0\n",
      "  Downloading protobuf-6.32.1-cp39-abi3-manylinux2014_x86_64.whl (322 kB)\n",
      "\u001b[2K     \u001b[90m━━━━━━━━━━━━━━━━━━━━━━━━━━━━━━━━━━━━━━\u001b[0m \u001b[32m322.0/322.0 kB\u001b[0m \u001b[31m14.1 MB/s\u001b[0m eta \u001b[36m0:00:00\u001b[0m\n",
      "\u001b[?25hCollecting curl_cffi>=0.7\n",
      "  Downloading curl_cffi-0.13.0-cp39-abi3-manylinux_2_17_x86_64.manylinux2014_x86_64.whl (8.3 MB)\n",
      "\u001b[2K     \u001b[90m━━━━━━━━━━━━━━━━━━━━━━━━━━━━━━━━━━━━━━━━\u001b[0m \u001b[32m8.3/8.3 MB\u001b[0m \u001b[31m65.7 MB/s\u001b[0m eta \u001b[36m0:00:00\u001b[0m:00:01\u001b[0m00:01\u001b[0m\n",
      "\u001b[?25hCollecting websockets>=13.0\n",
      "  Downloading websockets-15.0.1-cp310-cp310-manylinux_2_5_x86_64.manylinux1_x86_64.manylinux_2_17_x86_64.manylinux2014_x86_64.whl (181 kB)\n",
      "\u001b[2K     \u001b[90m━━━━━━━━━━━━━━━━━━━━━━━━━━━━━━━━━━━━━━\u001b[0m \u001b[32m181.6/181.6 kB\u001b[0m \u001b[31m23.0 MB/s\u001b[0m eta \u001b[36m0:00:00\u001b[0m\n",
      "\u001b[?25hRequirement already satisfied: platformdirs>=2.0.0 in /opt/venv/lib/python3.10/site-packages (from yfinance) (4.3.6)\n",
      "Requirement already satisfied: numpy>=1.16.5 in /opt/venv/lib/python3.10/site-packages (from yfinance) (1.26.3)\n",
      "Requirement already satisfied: soupsieve>1.2 in /opt/venv/lib/python3.10/site-packages (from beautifulsoup4>=4.11.1->yfinance) (2.6)\n",
      "Requirement already satisfied: typing-extensions>=4.0.0 in /opt/venv/lib/python3.10/site-packages (from beautifulsoup4>=4.11.1->yfinance) (4.12.2)\n",
      "Requirement already satisfied: cffi>=1.12.0 in /opt/venv/lib/python3.10/site-packages (from curl_cffi>=0.7->yfinance) (1.17.1)\n",
      "Requirement already satisfied: certifi>=2024.2.2 in /opt/venv/lib/python3.10/site-packages (from curl_cffi>=0.7->yfinance) (2025.1.31)\n",
      "Requirement already satisfied: python-dateutil>=2.8.2 in /opt/venv/lib/python3.10/site-packages (from pandas>=1.3.0->yfinance) (2.9.0.post0)\n",
      "Requirement already satisfied: tzdata>=2022.1 in /opt/venv/lib/python3.10/site-packages (from pandas>=1.3.0->yfinance) (2025.1)\n",
      "Requirement already satisfied: charset-normalizer<4,>=2 in /opt/venv/lib/python3.10/site-packages (from requests>=2.31->yfinance) (3.4.1)\n",
      "Requirement already satisfied: idna<4,>=2.5 in /opt/venv/lib/python3.10/site-packages (from requests>=2.31->yfinance) (3.10)\n",
      "Requirement already satisfied: urllib3<3,>=1.21.1 in /opt/venv/lib/python3.10/site-packages (from requests>=2.31->yfinance) (2.3.0)\n",
      "Requirement already satisfied: pycparser in /opt/venv/lib/python3.10/site-packages (from cffi>=1.12.0->curl_cffi>=0.7->yfinance) (2.22)\n",
      "Requirement already satisfied: six>=1.5 in /opt/venv/lib/python3.10/site-packages (from python-dateutil>=2.8.2->pandas>=1.3.0->yfinance) (1.17.0)\n",
      "Installing collected packages: websockets, protobuf, curl_cffi, yfinance\n",
      "  Attempting uninstall: yfinance\n",
      "    Found existing installation: yfinance 0.2.54\n",
      "    Uninstalling yfinance-0.2.54:\n",
      "      Successfully uninstalled yfinance-0.2.54\n",
      "Successfully installed curl_cffi-0.13.0 protobuf-6.32.1 websockets-15.0.1 yfinance-0.2.65\n",
      "\n",
      "\u001b[1m[\u001b[0m\u001b[34;49mnotice\u001b[0m\u001b[1;39;49m]\u001b[0m\u001b[39;49m A new release of pip is available: \u001b[0m\u001b[31;49m23.0.1\u001b[0m\u001b[39;49m -> \u001b[0m\u001b[32;49m25.2\u001b[0m\n",
      "\u001b[1m[\u001b[0m\u001b[34;49mnotice\u001b[0m\u001b[1;39;49m]\u001b[0m\u001b[39;49m To update, run: \u001b[0m\u001b[32;49mpip install --upgrade pip\u001b[0m\n"
     ]
    }
   ],
   "source": [
    "# pip install yfinance\n",
    "!pip install --upgrade yfinance"
   ]
  },
  {
   "cell_type": "code",
   "execution_count": 64,
   "id": "1aa05430",
   "metadata": {},
   "outputs": [],
   "source": [
    "# Load necessary libraries\n",
    "import pandas as pd\n",
    "import numpy as np\n",
    "import yfinance as yf\n",
    "import matplotlib.pyplot as plt\n",
    "import matplotlib.dates as mdates\n",
    "import matplotlib.ticker as ticker"
   ]
  },
  {
   "cell_type": "markdown",
   "id": "8c4a4a35",
   "metadata": {},
   "source": [
    "# 2. Download Financial Data\n",
    "We will download front-month futures data for S&P500, 10-year Treasuries, gold, and US dollar using the `yfinance` library."
   ]
  },
  {
   "cell_type": "code",
   "execution_count": 65,
   "id": "fa831031",
   "metadata": {},
   "outputs": [
    {
     "name": "stderr",
     "output_type": "stream",
     "text": [
      "[*********************100%***********************]  4 of 4 completed\n"
     ]
    }
   ],
   "source": [
    "symbols = ['ES=F','ZN=F','GC=F','DX=F']\n",
    "data = yf.download(symbols, period=\"1y\", auto_adjust=True)"
   ]
  },
  {
   "cell_type": "code",
   "execution_count": 66,
   "id": "d27da875",
   "metadata": {},
   "outputs": [
    {
     "data": {
      "text/plain": [
       "MultiIndex([( 'Close', 'DX=F'),\n",
       "            ( 'Close', 'ES=F'),\n",
       "            ( 'Close', 'GC=F'),\n",
       "            ( 'Close', 'ZN=F'),\n",
       "            (  'High', 'DX=F'),\n",
       "            (  'High', 'ES=F'),\n",
       "            (  'High', 'GC=F'),\n",
       "            (  'High', 'ZN=F'),\n",
       "            (   'Low', 'DX=F'),\n",
       "            (   'Low', 'ES=F'),\n",
       "            (   'Low', 'GC=F'),\n",
       "            (   'Low', 'ZN=F'),\n",
       "            (  'Open', 'DX=F'),\n",
       "            (  'Open', 'ES=F'),\n",
       "            (  'Open', 'GC=F'),\n",
       "            (  'Open', 'ZN=F'),\n",
       "            ('Volume', 'DX=F'),\n",
       "            ('Volume', 'ES=F'),\n",
       "            ('Volume', 'GC=F'),\n",
       "            ('Volume', 'ZN=F')],\n",
       "           names=['Price', 'Ticker'])"
      ]
     },
     "execution_count": 66,
     "metadata": {},
     "output_type": "execute_result"
    }
   ],
   "source": [
    "data.columns"
   ]
  },
  {
   "cell_type": "code",
   "execution_count": 68,
   "id": "58bd9712",
   "metadata": {},
   "outputs": [
    {
     "name": "stdout",
     "output_type": "stream",
     "text": [
      "                ES=F      ZN=F      GC=F      DX=F\n",
      "Date                                              \n",
      "2024-10-31 -0.013028 -0.033361  0.038769  0.033396\n",
      "2024-11-30  0.054544  0.004950 -0.029690  0.018772\n",
      "2024-12-31 -0.019127 -0.020408 -0.010463  0.023321\n",
      "2025-01-31  0.022154  0.000862  0.069717 -0.000729\n",
      "2025-02-28 -0.017141  0.020385  0.008640 -0.006090\n"
     ]
    }
   ],
   "source": [
    "returns = prices.pct_change().dropna()\n",
    "print(returns.head())"
   ]
  },
  {
   "cell_type": "markdown",
   "id": "189bc851",
   "metadata": {},
   "source": [
    "### 3. Resample Data\n",
    "\n",
    "In this section, we aim to reduce the noise in the daily financial data by resampling it to a monthly frequency. Resampling is a common technique in time series analysis, allowing us to aggregate data points over a specified time period. This helps in smoothing out short-term fluctuations and making the data more manageable for analysis.\n"
   ]
  },
  {
   "cell_type": "code",
   "execution_count": 69,
   "id": "aedbfa86",
   "metadata": {},
   "outputs": [
    {
     "name": "stdout",
     "output_type": "stream",
     "text": [
      "               ES=F        ZN=F         GC=F       DX=F\n",
      "Date                                                   \n",
      "2025-05-31  5916.00  110.718750  3288.899902  99.259003\n",
      "2025-06-30  6253.75  112.125000  3294.399902  96.492996\n",
      "2025-07-31  6374.25  111.062500  3293.199951  99.742996\n",
      "2025-08-31  6472.75  112.453125  3473.699951  97.690002\n",
      "2025-09-30  6588.50  113.234375  3680.699951  97.214996\n",
      "<class 'pandas.core.indexes.datetimes.DatetimeIndex'>\n",
      "               ES=F        ZN=F         GC=F       DX=F\n",
      "Date                                                   \n",
      "2025-05-31  5916.00  110.718750  3288.899902  99.259003\n",
      "2025-06-30  6253.75  112.125000  3294.399902  96.492996\n",
      "2025-07-31  6374.25  111.062500  3293.199951  99.742996\n",
      "2025-08-31  6472.75  112.453125  3473.699951  97.690002\n",
      "2025-09-30  6588.50  113.234375  3680.699951  97.214996\n"
     ]
    }
   ],
   "source": [
    "# ✅ You already have 'combined' with futures closes\n",
    "print(combined.tail())\n",
    "\n",
    "# Resample to monthly frequency (last trading day of each month)\n",
    "monthly_data = combined.resample('M').last()\n",
    "\n",
    "# Ensure datetime index\n",
    "monthly_data.index = pd.to_datetime(monthly_data.index)\n",
    "\n",
    "print(type(monthly_data.index))   # should return <class 'pandas.core.indexes.datetimes.DatetimeIndex'>\n",
    "print(monthly_data.tail())"
   ]
  },
  {
   "cell_type": "code",
   "execution_count": 70,
   "id": "c114be39",
   "metadata": {},
   "outputs": [
    {
     "name": "stdout",
     "output_type": "stream",
     "text": [
      "<class 'pandas.core.indexes.datetimes.DatetimeIndex'>\n"
     ]
    }
   ],
   "source": [
    "print(type(data.index))"
   ]
  },
  {
   "cell_type": "markdown",
   "id": "052a4fab-aa9d-4945-80bb-876bd2418f9f",
   "metadata": {},
   "source": [
    "### 4. Clean and Prepare Data\n",
    "\n",
    "In this step, we will focus on extracting the relevant data, handling missing values, and ensuring the data is ready for analysis. Specifically, we'll subset the adjusted close prices from our dataset, fill any missing values, and drop rows with unknown prices.\n",
    "\n",
    "#### Steps to Clean and Prepare Data\n",
    "\n",
    "1. **Subset Adjusted Close Prices**     \n",
    "2. **Fill Missing Values (NaNs)**\n",
    "3. **Drop Rows with Remaining NaNs**\n",
    "4. **Ensure Correct Date Formatting**\n",
    "\n",
    "By following these steps, we will have a clean dataset of adjusted close prices that is free of missing values and properly formatted for time series analysis.\n"
   ]
  },
  {
   "cell_type": "code",
   "execution_count": 71,
   "id": "b0ebfafd",
   "metadata": {},
   "outputs": [
    {
     "name": "stdout",
     "output_type": "stream",
     "text": [
      "               ES=F        ZN=F         GC=F        DX=F\n",
      "Date                                                    \n",
      "2024-09-30  5814.25  114.281250  2636.100098  100.521004\n",
      "2024-10-31  5738.50  110.468750  2738.300049  103.877998\n",
      "2024-11-30  6051.50  111.015625  2657.000000  105.828003\n",
      "2024-12-31  5935.75  108.750000  2629.199951  108.295998\n",
      "2025-01-31  6067.25  108.843750  2812.500000  108.217003\n",
      "<class 'pandas.core.frame.DataFrame'>\n",
      "DatetimeIndex: 13 entries, 2024-09-30 to 2025-09-30\n",
      "Freq: M\n",
      "Data columns (total 4 columns):\n",
      " #   Column  Non-Null Count  Dtype  \n",
      "---  ------  --------------  -----  \n",
      " 0   ES=F    13 non-null     float64\n",
      " 1   ZN=F    13 non-null     float64\n",
      " 2   GC=F    13 non-null     float64\n",
      " 3   DX=F    13 non-null     float64\n",
      "dtypes: float64(4)\n",
      "memory usage: 520.0 bytes\n",
      "None\n"
     ]
    },
    {
     "name": "stderr",
     "output_type": "stream",
     "text": [
      "/tmp/ipykernel_99/2875431116.py:5: FutureWarning: DataFrame.fillna with 'method' is deprecated and will raise in a future version. Use obj.ffill() or obj.bfill() instead.\n",
      "  prices = prices.fillna(method=\"ffill\").fillna(method=\"bfill\")\n"
     ]
    }
   ],
   "source": [
    "# ✅ Subset adjusted close prices (already done in monthly_data)\n",
    "prices = monthly_data.copy()\n",
    "\n",
    "# ✅ Fill missing values forward, then backward as safety\n",
    "prices = prices.fillna(method=\"ffill\").fillna(method=\"bfill\")\n",
    "\n",
    "# ✅ Drop any rows still containing NaNs (if any remain)\n",
    "prices = prices.dropna()\n",
    "\n",
    "# ✅ Ensure datetime index\n",
    "prices.index = pd.to_datetime(prices.index)\n",
    "\n",
    "print(prices.head())\n",
    "print(prices.info())"
   ]
  },
  {
   "cell_type": "code",
   "execution_count": 72,
   "id": "07f745df",
   "metadata": {},
   "outputs": [
    {
     "name": "stdout",
     "output_type": "stream",
     "text": [
      "               ES=F        ZN=F         GC=F        DX=F\n",
      "Date                                                    \n",
      "2024-09-30  5814.25  114.281250  2636.100098  100.521004\n",
      "2024-10-31  5738.50  110.468750  2738.300049  103.877998\n",
      "2024-11-30  6051.50  111.015625  2657.000000  105.828003\n",
      "2024-12-31  5935.75  108.750000  2629.199951  108.295998\n",
      "2025-01-31  6067.25  108.843750  2812.500000  108.217003\n",
      "2025-02-28  5963.25  111.062500  2836.800049  107.557999\n",
      "2025-03-31  5653.25  111.218750  3122.800049  103.883003\n",
      "2025-04-30  5587.00  112.218750  3305.000000   99.269997\n",
      "2025-05-31  5916.00  110.718750  3288.899902   99.259003\n",
      "2025-06-30  6253.75  112.125000  3294.399902   96.492996\n",
      "2025-07-31  6374.25  111.062500  3293.199951   99.742996\n",
      "2025-08-31  6472.75  112.453125  3473.699951   97.690002\n",
      "2025-09-30  6588.50  113.234375  3680.699951   97.214996\n"
     ]
    }
   ],
   "source": [
    "print(prices)"
   ]
  },
  {
   "cell_type": "code",
   "execution_count": 73,
   "id": "a74a8a08",
   "metadata": {},
   "outputs": [
    {
     "data": {
      "image/png": "[encoded data removed]",
      "text/plain": [
       "<Figure size 640x480 with 1 Axes>"
      ]
     },
     "metadata": {},
     "output_type": "display_data"
    }
   ],
   "source": [
    "prices.plot()\n",
    "plt.show()"
   ]
  },
  {
   "cell_type": "code",
   "execution_count": 74,
   "id": "63d62f03",
   "metadata": {},
   "outputs": [
    {
     "data": {
      "image/png": "[encoded data removed]",
      "text/plain": [
       "<Figure size 640x480 with 1 Axes>"
      ]
     },
     "metadata": {},
     "output_type": "display_data"
    }
   ],
   "source": [
    "prices.plot()\n",
    "plt.yscale(\"log\")\n",
    "plt.show()"
   ]
  },
  {
   "cell_type": "markdown",
   "id": "b2f718a0",
   "metadata": {},
   "source": [
    "### 5. Calculate Returns\n",
    "\n",
    "In financial analysis, one of the key metrics is the return on an investment, which shows how much the price of an asset has increased or decreased over a certain period. We will calculate the **arithmetic returns** of the adjusted close prices to measure this change over time.\n",
    "\n",
    "#### Steps to Calculate Arithmetic Returns\n",
    "\n",
    "1. **Understanding Arithmetic Returns:**\n",
    "   - Arithmetic returns measure the percentage change in the price of an asset from one period to the next. \n",
    "   - The formula for calculating the arithmetic return for a given period is:\n",
    "\n",
    "     $\n",
    "     R_t = \\frac{P_t - P_{t-1}}{P_{t-1}}\n",
    "     $\n",
    "     \n",
    "     where:\n",
    "     - $ R_t $ is the return at time $ t $,\n",
    "     - $ P_t $ is the price at time $ t $,\n",
    "     - $ P_{t-1} $ is the price at the previous time period.\n",
    "\n",
    "   - This formula can be simplified to:\n",
    "     $\n",
    "     R_t = \\frac{P_t}{P_{t-1}} - 1\n",
    "     $\n",
    "   - However, in practice, it is common to use the percentage change function provided by Pandas, which handles this calculation efficiently.\n",
    "\n",
    "2. **Calculate Percentage Change**\n",
    "3. **Handle Missing Values:**\n",
    "\n",
    "By following these steps, we will have a series of arithmetic returns that represent the day-to-day percentage changes in the asset's price, which can be used for further analysis such as calculating cumulative returns, volatility, or risk metrics.\n"
   ]
  },
  {
   "cell_type": "code",
   "execution_count": 75,
   "id": "85eb7ff4",
   "metadata": {},
   "outputs": [
    {
     "name": "stdout",
     "output_type": "stream",
     "text": [
      "                ES=F      ZN=F      GC=F      DX=F\n",
      "Date                                              \n",
      "2024-10-31 -0.013028 -0.033361  0.038769  0.033396\n",
      "2024-11-30  0.054544  0.004950 -0.029690  0.018772\n",
      "2024-12-31 -0.019127 -0.020408 -0.010463  0.023321\n",
      "2025-01-31  0.022154  0.000862  0.069717 -0.000729\n",
      "2025-02-28 -0.017141  0.020385  0.008640 -0.006090\n",
      "            ES=F       ZN=F       GC=F       DX=F\n",
      "count  12.000000  12.000000  12.000000  12.000000\n",
      "mean    0.011023  -0.000654   0.028914  -0.002470\n",
      "std     0.034816   0.015617   0.039940   0.026065\n",
      "min    -0.051985  -0.033361  -0.029690  -0.044406\n",
      "25%    -0.014057  -0.010449  -0.001491  -0.022404\n",
      "50%     0.016668   0.003179   0.023705  -0.002796\n",
      "75%     0.030251   0.009874   0.058656   0.019909\n",
      "max     0.058887   0.020385   0.100818   0.033681\n"
     ]
    }
   ],
   "source": [
    "# ✅ Compute arithmetic (simple) returns\n",
    "returns = prices.pct_change().dropna()\n",
    "\n",
    "print(returns.head())\n",
    "print(returns.describe())"
   ]
  },
  {
   "cell_type": "code",
   "execution_count": 76,
   "id": "a56b10be",
   "metadata": {},
   "outputs": [
    {
     "name": "stdout",
     "output_type": "stream",
     "text": [
      "                ES=F      ZN=F      GC=F      DX=F\n",
      "Date                                              \n",
      "2024-10-31 -0.013028 -0.033361  0.038769  0.033396\n",
      "2024-11-30  0.054544  0.004950 -0.029690  0.018772\n",
      "2024-12-31 -0.019127 -0.020408 -0.010463  0.023321\n",
      "2025-01-31  0.022154  0.000862  0.069717 -0.000729\n",
      "2025-02-28 -0.017141  0.020385  0.008640 -0.006090\n",
      "2025-03-31 -0.051985  0.001407  0.100818 -0.034168\n",
      "2025-04-30 -0.011719  0.008991  0.058345 -0.044406\n",
      "2025-05-31  0.058887 -0.013367 -0.004871 -0.000111\n",
      "2025-06-30  0.057091  0.012701  0.001672 -0.027867\n",
      "2025-07-31  0.019268 -0.009476 -0.000364  0.033681\n",
      "2025-08-31  0.015453  0.012521  0.054810 -0.020583\n",
      "2025-09-30  0.017883  0.006947  0.059591 -0.004862\n"
     ]
    }
   ],
   "source": [
    "print(returns)"
   ]
  },
  {
   "cell_type": "markdown",
   "id": "60e8526a",
   "metadata": {},
   "source": [
    "### 6. Compute Risk-Parity Weights\n",
    "\n",
    "Risk-parity is an investment strategy that seeks to allocate portfolio weights in a way that each asset contributes equally to the overall portfolio risk. This method is especially useful in diversifying risk across different assets with varying levels of volatility.\n",
    "\n",
    "#### Steps to Compute Risk-Parity Weights\n",
    "\n",
    "1. **Understanding Risk-Parity:**\n",
    "   - The idea behind risk-parity is to allocate more weight to less volatile assets and less weight to more volatile assets, thereby equalizing the risk contribution of each asset in the portfolio.\n",
    "   - The weight of each asset in the portfolio is inversely proportional to its volatility.\n",
    "\n",
    "2. **Calculate Rolling Volatility:**\n",
    "   - Volatility is a statistical measure of the dispersion of returns for a given security or market index.\n",
    "     \n",
    "3. **Compute Inverse Volatility:**\n",
    "4. **Normalize Weights:**\n",
    "   - Once we have the inverse volatilities, we normalize them so that the sum of the weights for each time period equals 1. This ensures that we have a proper weight distribution across assets.\n",
    "   - We achieve this by dividing the inverse volatility of each asset by the sum of the inverse volatilities across all assets for each time period.\n",
    "     \n",
    "5. **Shift Weights for Practical Application:**\n",
    "   - In a real-world scenario, we can only make investment decisions based on information that is available at the time of making the decision. Therefore, we shift the computed weights by one period to ensure that the weights at time $ t $ are based on data up to $ t-1 $.      - This shift ensures that the weights applied are based on historical data up to the previous period, which is crucial for avoiding look-ahead bias.\n",
    "\n",
    "By following these steps, we generate a time series of risk-parity weights that can be used to allocate assets in a way that balances the risk across the portfolio. The resulting weights adapt dynamically based on the rolling volatility, ensuring that each asset contributes equally to the overall risk over time.\n"
   ]
  },
  {
   "cell_type": "code",
   "execution_count": 77,
   "id": "4c71b7e8",
   "metadata": {},
   "outputs": [
    {
     "name": "stdout",
     "output_type": "stream",
     "text": [
      "               ES=F        ZN=F         GC=F        DX=F\n",
      "Date                                                    \n",
      "2024-09-30  5814.25  114.281250  2636.100098  100.521004\n",
      "2024-10-31  5738.50  110.468750  2738.300049  103.877998\n",
      "2024-11-30  6051.50  111.015625  2657.000000  105.828003\n",
      "2024-12-31  5935.75  108.750000  2629.199951  108.295998\n",
      "2025-01-31  6067.25  108.843750  2812.500000  108.217003\n",
      "ES=F    float64\n",
      "ZN=F    float64\n",
      "GC=F    float64\n",
      "DX=F    float64\n",
      "dtype: object\n"
     ]
    }
   ],
   "source": [
    "print(prices.head())\n",
    "print(prices.dtypes)"
   ]
  },
  {
   "cell_type": "code",
   "execution_count": 78,
   "id": "18bbbb78",
   "metadata": {},
   "outputs": [],
   "source": [
    "prices = prices.astype(float)"
   ]
  },
  {
   "cell_type": "code",
   "execution_count": 79,
   "id": "a7497660",
   "metadata": {},
   "outputs": [
    {
     "name": "stdout",
     "output_type": "stream",
     "text": [
      "                ES=F      ZN=F      GC=F      DX=F\n",
      "Date                                              \n",
      "2024-10-31 -0.013028 -0.033361  0.038769  0.033396\n",
      "2024-11-30  0.054544  0.004950 -0.029690  0.018772\n",
      "2024-12-31 -0.019127 -0.020408 -0.010463  0.023321\n",
      "2025-01-31  0.022154  0.000862  0.069717 -0.000729\n",
      "2025-02-28 -0.017141  0.020385  0.008640 -0.006090\n"
     ]
    }
   ],
   "source": [
    "returns = prices.pct_change().dropna()\n",
    "print(returns.head())"
   ]
  },
  {
   "cell_type": "code",
   "execution_count": 80,
   "id": "ea930b10",
   "metadata": {},
   "outputs": [],
   "source": [
    "window_size = 36  # e.g., 36 months\n",
    "rolling_vol = returns.rolling(window=window_size).std()\n",
    "inverse_vol = 1 / rolling_vol\n",
    "risk_parity_weights = inverse_vol.div(inverse_vol.sum(axis=1), axis=0)"
   ]
  },
  {
   "cell_type": "code",
   "execution_count": 81,
   "id": "b76bbb3a",
   "metadata": {},
   "outputs": [],
   "source": [
    "risk_parity_weights = risk_parity_weights.shift(1)"
   ]
  },
  {
   "cell_type": "code",
   "execution_count": 84,
   "id": "924c459a",
   "metadata": {},
   "outputs": [
    {
     "name": "stdout",
     "output_type": "stream",
     "text": [
      "Ticker            DX=F     ES=F         GC=F        ZN=F\n",
      "Date                                                    \n",
      "2024-09-12  101.350998  5602.25  2551.199951  114.687500\n",
      "2024-09-13  101.120003  5629.75  2581.300049  114.921875\n",
      "2024-09-16  100.710999  5638.00  2580.399902  115.078125\n",
      "2024-09-17  100.567001  5639.00  2564.300049  114.921875\n",
      "2024-09-18  100.281998  5620.75  2570.699951  114.640625\n",
      "Ticker          DX=F      ES=F      GC=F      ZN=F\n",
      "Date                                              \n",
      "2024-09-13 -0.002279  0.004909  0.011798  0.002044\n",
      "2024-09-16 -0.004045  0.001465 -0.000349  0.001360\n",
      "2024-09-17 -0.001430  0.000177 -0.006239 -0.001358\n",
      "2024-09-18 -0.002834 -0.003236  0.002496 -0.002447\n",
      "2024-09-19  0.000389  0.017257  0.006730 -0.002726\n",
      "Ticker        DX=F        ES=F        GC=F        ZN=F\n",
      "count   254.000000  254.000000  254.000000  254.000000\n",
      "mean     -0.000152    0.000710    0.001509   -0.000044\n",
      "std       0.004845    0.012041    0.011381    0.003448\n",
      "min      -0.019615   -0.059362   -0.036609   -0.010233\n",
      "25%      -0.003227   -0.003497   -0.004280   -0.002270\n",
      "50%       0.000157    0.000632    0.002076   -0.000142\n",
      "75%       0.003127    0.005482    0.007986    0.002240\n",
      "max       0.016076    0.093770    0.033523    0.010270\n"
     ]
    },
    {
     "name": "stderr",
     "output_type": "stream",
     "text": [
      "/tmp/ipykernel_99/3298317977.py:6: FutureWarning: The default fill_method='pad' in DataFrame.pct_change is deprecated and will be removed in a future version. Either fill in any non-leading NA values prior to calling pct_change or specify 'fill_method=None' to not fill NA values.\n",
      "  returns = prices.pct_change().dropna()\n"
     ]
    }
   ],
   "source": [
    "# Select the 'Close' level for all tickers\n",
    "prices = data['Close']  # now prices contains all tickers' adjusted prices\n",
    "print(prices.head())\n",
    "\n",
    "# Compute monthly returns\n",
    "returns = prices.pct_change().dropna()\n",
    "print(returns.head())\n",
    "print(returns.describe())"
   ]
  },
  {
   "cell_type": "code",
   "execution_count": 85,
   "id": "d7557879",
   "metadata": {},
   "outputs": [
    {
     "name": "stdout",
     "output_type": "stream",
     "text": [
      "Date\n",
      "2024-09-13    0.0\n",
      "2024-09-16    0.0\n",
      "2024-09-17    0.0\n",
      "2024-09-18    0.0\n",
      "2024-09-19    0.0\n",
      "dtype: float64\n",
      "Date\n",
      "2024-09-13    1.0\n",
      "2024-09-16    1.0\n",
      "2024-09-17    1.0\n",
      "2024-09-18    1.0\n",
      "2024-09-19    1.0\n",
      "dtype: float64\n"
     ]
    }
   ],
   "source": [
    "portfolio_returns = (returns * risk_parity_weights).sum(axis=1)\n",
    "cumulative_returns = (1 + portfolio_returns).cumprod()\n",
    "print(portfolio_returns.head())\n",
    "print(cumulative_returns.head())"
   ]
  },
  {
   "cell_type": "code",
   "execution_count": 86,
   "id": "557075b0",
   "metadata": {},
   "outputs": [
    {
     "data": {
      "image/png": "[encoded data removed]",
      "text/plain": [
       "<Figure size 1200x600 with 1 Axes>"
      ]
     },
     "metadata": {},
     "output_type": "display_data"
    }
   ],
   "source": [
    "cumulative_returns.plot(\n",
    "    figsize=(12,6), \n",
    "    title=\"Cumulative Returns of Risk-Parity Portfolio\",\n",
    "    color=\"green\",\n",
    "    linewidth=2\n",
    ")\n",
    "plt.grid(True)\n",
    "plt.xlabel(\"Date\")\n",
    "plt.ylabel(\"Cumulative Return\")\n",
    "plt.show()"
   ]
  },
  {
   "cell_type": "markdown",
   "id": "714c77a8",
   "metadata": {},
   "source": [
    "### 7. Calculate Weighted Returns\n",
    "\n",
    "Once we have determined the risk-parity weights, the next step is to calculate the weighted returns for each asset and then aggregate them to obtain the portfolio returns. This process allows us to understand how the risk-parity allocation strategy would have performed over time.\n",
    "\n",
    "#### Steps to Calculate Weighted Returns\n",
    "\n",
    "1. **Understanding Weighted Returns:**\n",
    "   - The weighted return of an asset is calculated by multiplying its individual return by the corresponding weight in the portfolio. \n",
    "   - The total portfolio return at any given time is the sum of the weighted returns of all assets.\n",
    "\n",
    "2. **Apply Weights to Returns:**\n",
    "   - We will multiply the returns of each asset by its corresponding risk-parity weight for each time period. This will give us the weighted return for each asset.\n",
    "3. **Handle Missing Data:**\n",
    "   - We drop any rows with missing values (`NaN`) that may result from the multiplication process. This ensures that we only consider time periods with complete data.\n",
    "4. **Aggregate Weighted Returns:**\n",
    "   - To calculate the portfolio's return at each time period, sum the weighted returns across all assets. This gives the overall return of the portfolio for each time period.\n",
    "\n",
    "#### Mathematical Representation:\n",
    "\n",
    "Given the returns $ r_{i,t} $ for asset $ i $ at time $ t $, and the risk-parity weight $ w_{i,t} $ for asset $ i $ at time $ t $, the weighted return for asset $ i $ at time $ t $ is:\n",
    "\n",
    "$ r_{i,t}^{weighted} = r_{i,t} \\times w_{i,t} $\n",
    "\n",
    "The total portfolio return at time $ t $ is the sum of the weighted returns for all assets:\n",
    "\n",
    "$\n",
    "R_{portfolio,t} = \\sum_{i=1}^{n} r_{i,t}^{weighted}\n",
    "$\n",
    "\n",
    "Where $ n $ is the number of assets in the portfolio.\n",
    "\n",
    "By following these steps, we obtain the portfolio returns that reflect the performance of the risk-parity strategy over time. This provides insights into how well the strategy balanced risk across different market conditions.\n"
   ]
  },
  {
   "cell_type": "code",
   "execution_count": 87,
   "id": "abd06b6d",
   "metadata": {},
   "outputs": [
    {
     "name": "stdout",
     "output_type": "stream",
     "text": [
      "Date\n",
      "2024-09-13    0.0\n",
      "2024-09-16    0.0\n",
      "2024-09-17    0.0\n",
      "2024-09-18    0.0\n",
      "2024-09-19    0.0\n",
      "dtype: float64\n"
     ]
    }
   ],
   "source": [
    "# Shift weights by one period to avoid look-ahead bias\n",
    "shifted_weights = risk_parity_weights.shift(1)\n",
    "\n",
    "# Multiply asset returns by their corresponding risk-parity weights\n",
    "weighted_returns = returns * shifted_weights\n",
    "\n",
    "# Sum across all assets to get portfolio returns\n",
    "risk_parity_portfolio_returns = weighted_returns.sum(axis=1)\n",
    "\n",
    "# Inspect the first few portfolio returns\n",
    "print(risk_parity_portfolio_returns.head())"
   ]
  },
  {
   "cell_type": "code",
   "execution_count": 88,
   "id": "0210dda0",
   "metadata": {},
   "outputs": [
    {
     "name": "stdout",
     "output_type": "stream",
     "text": [
      "Date\n",
      "2024-09-13    0.0\n",
      "2024-09-16    0.0\n",
      "2024-09-17    0.0\n",
      "2024-09-18    0.0\n",
      "2024-09-19    0.0\n",
      "             ... \n",
      "2025-09-09    0.0\n",
      "2025-09-10    0.0\n",
      "2025-09-11    0.0\n",
      "2025-09-12    0.0\n",
      "2025-09-30    0.0\n",
      "Length: 258, dtype: float64\n"
     ]
    }
   ],
   "source": [
    "print(risk_parity_portfolio_returns)"
   ]
  },
  {
   "cell_type": "markdown",
   "id": "bfee09a6",
   "metadata": {},
   "source": [
    "### 8. Evaluate Portfolio Performance\n",
    "\n",
    "To assess the performance of the risk-parity portfolio, we will compute several key financial metrics. These metrics will help us understand the portfolio's return, risk, and overall performance characteristics. Below are the details of the metrics we will calculate, along with the functions used and their corresponding arguments.\n",
    "\n",
    "1. **Annualized Mean Return**\n",
    "   - **Description:** The average return of the portfolio on an annual basis. This is useful for understanding the long-term growth rate of the portfolio.\n",
    "2. **Annualized Volatility**\n",
    "   - **Description:** A measure of the portfolio's return volatility on an annual basis, indicating the degree of variation in returns.\n",
    "   - **Formula:** \n",
    "     $\n",
    "     \\text{Annualized Volatility} = \\text{Standard Deviation of Monthly Returns} \\times \\sqrt{12}\n",
    "     $\n",
    "3. **Skewness**\n",
    "   - **Description:** Skewness measures the asymmetry of the return distribution. Positive skewness indicates a distribution with a longer right tail, while negative skewness indicates a longer left tail.\n",
    "4. **Kurtosis**\n",
    "   - **Description:** Kurtosis measures the \"tailedness\" of the return distribution. High kurtosis indicates a distribution with heavy tails and a sharp peak.\n",
    "5. **Maximum Drawdown**\n",
    "   - **Description:** The maximum observed loss from a peak to a trough of the portfolio's cumulative returns, before a new peak is attained.\n",
    "   - **Formula:** \n",
    "     $\n",
    "     \\text{Drawdown} = \\frac{\\text{Cumulative Return} - \\text{Running Maximum}}{\\text{Running Maximum}}\n",
    "     $\n",
    "6. **Sharpe Ratio**\n",
    "   - **Description:** The Sharpe Ratio measures the risk-adjusted return of the portfolio, calculated as the ratio of the portfolio's excess return (over the risk-free rate, typically assumed to be 0 in this case) to its volatility.\n",
    "   - **Formula:** \n",
    "     $\n",
    "     \\text{Sharpe Ratio} = \\frac{\\text{Annualized Mean Return}}{\\text{Annualized Volatility}}\n",
    "     $\n",
    "7. **Sortino Ratio**\n",
    "   - **Description:** The Sortino Ratio is a variation of the Sharpe Ratio that penalizes only downside volatility, thus providing a better measure of risk-adjusted return for portfolios that have asymmetric return distributions.\n",
    "   - **Formula:** \n",
    "     $\n",
    "     \\text{Sortino Ratio} = \\frac{\\text{Annualized Mean Return}}{\\text{Downside Volatility}}\n",
    "     $\n",
    "8. **Calmar Ratio**\n",
    "   - **Description:** The Calmar Ratio measures the risk-adjusted return of a portfolio by comparing the annualized return to the maximum drawdown, providing insight into performance relative to the worst-case scenario.\n",
    "   - **Formula:** \n",
    "     $\n",
    "     \\text{Calmar Ratio} = \\frac{\\text{Annualized Mean Return}}{-\\text{Maximum Drawdown}}\n",
    "     $\n",
    "\n",
    "After calculating these metrics, we will display the results to evaluate the performance of the risk-parity portfolio comprehensively.\n"
   ]
  },
  {
   "cell_type": "code",
   "execution_count": 89,
   "id": "d88ea5b1",
   "metadata": {},
   "outputs": [
    {
     "name": "stdout",
     "output_type": "stream",
     "text": [
      "Date\n",
      "2024-09-13    0.0\n",
      "2024-09-16    0.0\n",
      "2024-09-17    0.0\n",
      "2024-09-18    0.0\n",
      "2024-09-19    0.0\n",
      "dtype: float64\n",
      "0\n"
     ]
    }
   ],
   "source": [
    "print(portfolio_returns.head())\n",
    "print(portfolio_returns.isna().sum())"
   ]
  },
  {
   "cell_type": "code",
   "execution_count": 90,
   "id": "d3e556a8",
   "metadata": {},
   "outputs": [],
   "source": [
    "# Example of correct computation\n",
    "portfolio_returns = (returns * risk_parity_weights.shift(1)).sum(axis=1)"
   ]
  },
  {
   "cell_type": "code",
   "execution_count": 91,
   "id": "2d389d01",
   "metadata": {},
   "outputs": [
    {
     "name": "stderr",
     "output_type": "stream",
     "text": [
      "/tmp/ipykernel_99/2179675023.py:2: FutureWarning: DataFrame.fillna with 'method' is deprecated and will raise in a future version. Use obj.ffill() or obj.bfill() instead.\n",
      "  risk_parity_weights = risk_parity_weights.fillna(method='ffill')\n"
     ]
    }
   ],
   "source": [
    "returns = returns.fillna(0)  # or use forward/backward fill if more appropriate\n",
    "risk_parity_weights = risk_parity_weights.fillna(method='ffill')"
   ]
  },
  {
   "cell_type": "code",
   "execution_count": 92,
   "id": "66cdc686",
   "metadata": {},
   "outputs": [
    {
     "name": "stdout",
     "output_type": "stream",
     "text": [
      "Date\n",
      "2024-09-13    0.0\n",
      "2024-09-16    0.0\n",
      "2024-09-17    0.0\n",
      "2024-09-18    0.0\n",
      "2024-09-19    0.0\n",
      "dtype: float64\n"
     ]
    }
   ],
   "source": [
    "portfolio_returns = (returns * risk_parity_weights.shift(1)).sum(axis=1)\n",
    "print(portfolio_returns.head())"
   ]
  },
  {
   "cell_type": "code",
   "execution_count": 93,
   "id": "156c634c",
   "metadata": {},
   "outputs": [
    {
     "data": {
      "text/html": [
       "<div>\n",
       "<style scoped>\n",
       "    .dataframe tbody tr th:only-of-type {\n",
       "        vertical-align: middle;\n",
       "    }\n",
       "\n",
       "    .dataframe tbody tr th {\n",
       "        vertical-align: top;\n",
       "    }\n",
       "\n",
       "    .dataframe thead th {\n",
       "        text-align: right;\n",
       "    }\n",
       "</style>\n",
       "<table border=\"1\" class=\"dataframe\">\n",
       "  <thead>\n",
       "    <tr style=\"text-align: right;\">\n",
       "      <th>Ticker</th>\n",
       "      <th>DX=F</th>\n",
       "      <th>ES=F</th>\n",
       "      <th>GC=F</th>\n",
       "      <th>ZN=F</th>\n",
       "    </tr>\n",
       "    <tr>\n",
       "      <th>Date</th>\n",
       "      <th></th>\n",
       "      <th></th>\n",
       "      <th></th>\n",
       "      <th></th>\n",
       "    </tr>\n",
       "  </thead>\n",
       "  <tbody>\n",
       "    <tr>\n",
       "      <th>2024-09-12</th>\n",
       "      <td>101.350998</td>\n",
       "      <td>5602.25</td>\n",
       "      <td>2551.199951</td>\n",
       "      <td>114.687500</td>\n",
       "    </tr>\n",
       "    <tr>\n",
       "      <th>2024-09-13</th>\n",
       "      <td>101.120003</td>\n",
       "      <td>5629.75</td>\n",
       "      <td>2581.300049</td>\n",
       "      <td>114.921875</td>\n",
       "    </tr>\n",
       "    <tr>\n",
       "      <th>2024-09-16</th>\n",
       "      <td>100.710999</td>\n",
       "      <td>5638.00</td>\n",
       "      <td>2580.399902</td>\n",
       "      <td>115.078125</td>\n",
       "    </tr>\n",
       "    <tr>\n",
       "      <th>2024-09-17</th>\n",
       "      <td>100.567001</td>\n",
       "      <td>5639.00</td>\n",
       "      <td>2564.300049</td>\n",
       "      <td>114.921875</td>\n",
       "    </tr>\n",
       "    <tr>\n",
       "      <th>2024-09-18</th>\n",
       "      <td>100.281998</td>\n",
       "      <td>5620.75</td>\n",
       "      <td>2570.699951</td>\n",
       "      <td>114.640625</td>\n",
       "    </tr>\n",
       "  </tbody>\n",
       "</table>\n",
       "</div>"
      ],
      "text/plain": [
       "Ticker            DX=F     ES=F         GC=F        ZN=F\n",
       "Date                                                    \n",
       "2024-09-12  101.350998  5602.25  2551.199951  114.687500\n",
       "2024-09-13  101.120003  5629.75  2581.300049  114.921875\n",
       "2024-09-16  100.710999  5638.00  2580.399902  115.078125\n",
       "2024-09-17  100.567001  5639.00  2564.300049  114.921875\n",
       "2024-09-18  100.281998  5620.75  2570.699951  114.640625"
      ]
     },
     "execution_count": 93,
     "metadata": {},
     "output_type": "execute_result"
    }
   ],
   "source": [
    "prices.head()"
   ]
  },
  {
   "cell_type": "code",
   "execution_count": 94,
   "id": "2051fc5a",
   "metadata": {},
   "outputs": [],
   "source": [
    "returns = returns.fillna(0)\n",
    "risk_parity_weights = compute_risk_parity_weights(returns, window_size=36).ffill()"
   ]
  },
  {
   "cell_type": "code",
   "execution_count": 95,
   "id": "1946b6d1",
   "metadata": {},
   "outputs": [
    {
     "name": "stdout",
     "output_type": "stream",
     "text": [
      "Date\n",
      "2024-09-13    0.0\n",
      "2024-09-16    0.0\n",
      "2024-09-17    0.0\n",
      "2024-09-18    0.0\n",
      "2024-09-19    0.0\n",
      "dtype: float64\n"
     ]
    }
   ],
   "source": [
    "portfolio_returns = (returns * risk_parity_weights.shift(1)).sum(axis=1)\n",
    "print(portfolio_returns.head())"
   ]
  },
  {
   "cell_type": "code",
   "execution_count": 96,
   "id": "c1489f4c",
   "metadata": {},
   "outputs": [
    {
     "name": "stdout",
     "output_type": "stream",
     "text": [
      "Mean Annual Return: 0.0026\n",
      "Annual Volatility: 0.0076\n",
      "Skewness: -0.2220\n",
      "Kurtosis: 2.2758\n",
      "Maximum Drawdown: -0.0290\n",
      "Sharpe Ratio: 0.3414\n",
      "Sortino Ratio: 0.4704\n",
      "Calmar Ratio: 0.0892\n"
     ]
    }
   ],
   "source": [
    "import numpy as np\n",
    "import pandas as pd\n",
    "from scipy.stats import skew, kurtosis\n",
    "\n",
    "# Annualization factor for monthly data\n",
    "ann_factor = 12\n",
    "\n",
    "# Annualized mean return\n",
    "annual_mean_return = portfolio_returns.mean() * ann_factor\n",
    "\n",
    "# Annualized volatility\n",
    "annual_volatility = portfolio_returns.std() * np.sqrt(ann_factor)\n",
    "\n",
    "# Skewness and kurtosis\n",
    "skewness = skew(portfolio_returns)\n",
    "kurtosis_val = kurtosis(portfolio_returns)  # excess kurtosis\n",
    "\n",
    "# Compute cumulative returns\n",
    "cumulative_returns = (1 + portfolio_returns).cumprod()\n",
    "\n",
    "# Running maximum and drawdown\n",
    "running_max = cumulative_returns.cummax()\n",
    "drawdown = cumulative_returns / running_max - 1\n",
    "max_drawdown = drawdown.min()\n",
    "\n",
    "# Sharpe ratio (risk-free rate assumed 0)\n",
    "sharpe_ratio = annual_mean_return / annual_volatility\n",
    "\n",
    "# Sortino ratio (penalize downside volatility only)\n",
    "downside_returns = portfolio_returns[portfolio_returns < 0]\n",
    "downside_std = downside_returns.std() * np.sqrt(ann_factor)\n",
    "sortino_ratio = annual_mean_return / downside_std\n",
    "\n",
    "# Calmar ratio (annualized return over max drawdown)\n",
    "calmar_ratio = annual_mean_return / abs(max_drawdown)\n",
    "\n",
    "# Display results\n",
    "print(f\"Mean Annual Return: {annual_mean_return:.4f}\")\n",
    "print(f\"Annual Volatility: {annual_volatility:.4f}\")\n",
    "print(f\"Skewness: {skewness:.4f}\")\n",
    "print(f\"Kurtosis: {kurtosis_val:.4f}\")\n",
    "print(f\"Maximum Drawdown: {max_drawdown:.4f}\")\n",
    "print(f\"Sharpe Ratio: {sharpe_ratio:.4f}\")\n",
    "print(f\"Sortino Ratio: {sortino_ratio:.4f}\")\n",
    "print(f\"Calmar Ratio: {calmar_ratio:.4f}\")"
   ]
  },
  {
   "cell_type": "markdown",
   "id": "e2de8713",
   "metadata": {},
   "source": [
    "### 9. Plot Results\n",
    "\n",
    "Visualizing the performance of the risk-parity portfolio is crucial for understanding the dynamics of cumulative returns and drawdowns over time. We will create a plot that displays both the cumulative returns and the drawdowns on the same graph. This will allow us to see how the portfolio grows over time and the extent of losses from peak to trough.\n",
    "\n",
    "#### Steps to Plot the Results:\n",
    "\n",
    "1. **Initialize the Plot**:\n",
    "   - We use `plt.subplots()` to create a figure and an axis object, allowing us to customize the plot.\n",
    "   - The `figsize` argument specifies the size of the plot. In this case, we choose a wide format (`14x7`) to better display the time series data.\n",
    "   - Example:\n",
    "     ```python\n",
    "     fig, ax = plt.subplots(figsize=(14, 7))\n",
    "     ```\n",
    "\n",
    "2. **Plot Cumulative Returns**:\n",
    "   - The `plot()` function is used to plot the cumulative returns on the axis `ax`.\n",
    "   - The `label` argument is used to create a legend entry, and `color` specifies the color of the line.\n",
    "   - Example:\n",
    "     ```python\n",
    "     cumulative_returns.plot(ax=ax, label='Cumulative Returns', color='blue')\n",
    "     ```\n",
    "\n",
    "3. **Plot Drawdown**:\n",
    "   - Similarly, the `plot()` function is used to plot the drawdown on the same axis `ax`.\n",
    "   - The `label` and `color` arguments distinguish this line from the cumulative returns.\n",
    "   - Example:\n",
    "     ```python\n",
    "     drawdown.plot(ax=ax, label='Drawdown', color='red')\n",
    "     ```\n",
    "\n",
    "4. **Customize the Plot**:\n",
    "   - The `set_title()` function sets the title of the plot, making it clear what the graph represents.\n",
    "   - The `set_ylabel()` and `set_xlabel()` functions label the y-axis and x-axis, respectively, to indicate what the axes represent (e.g., 'Cumulative Returns' and 'Date').\n",
    "   - Example:\n",
    "     ```python\n",
    "     ax.set_title('Cumulative Returns and Drawdown')\n",
    "     ax.set_ylabel('Cumulative Returns')\n",
    "     ax.set_xlabel('Date')\n",
    "     ```\n",
    "\n",
    "5. **Add a Legend**:\n",
    "   - The `legend()` function adds a legend to the plot, helping to identify which line represents cumulative returns and which represents drawdown.\n",
    "   - Example:\n",
    "     ```python\n",
    "     ax.legend()\n",
    "     ```\n",
    "\n",
    "6. **Display the Plot**:\n",
    "   - Finally, `plt.show()` is called to display the plot.\n",
    "   - Example:\n",
    "     ```python\n",
    "     plt.show()\n",
    "     ```\n",
    "\n",
    "The resulting plot will provide a clear visual representation of how the portfolio's value has evolved over time and the magnitude of any losses (drawdowns) experienced during the period. This visualization is essential for analyzing the risk and return profile of the portfolio.\n"
   ]
  },
  {
   "cell_type": "code",
   "execution_count": 97,
   "id": "be6313b8",
   "metadata": {},
   "outputs": [
    {
     "data": {
      "image/png": "[encoded data removed]",
      "text/plain": [
       "<Figure size 1400x700 with 1 Axes>"
      ]
     },
     "metadata": {},
     "output_type": "display_data"
    }
   ],
   "source": [
    "# Plot portfolio performance\n",
    "fig, ax = plt.subplots(figsize=(14, 7))\n",
    "(cumulative_returns - 1).plot(ax=ax, label='Cumulative Returns', color='blue')\n",
    "drawdown.plot(ax=ax, label='Drawdown', color='red')\n",
    "ax.set_title('Cumulative Returns and Drawdown')\n",
    "ax.set_ylabel('Cumulative Returns')\n",
    "ax.set_xlabel('Date')\n",
    "ax.legend()\n",
    "plt.show()"
   ]
  },
  {
   "cell_type": "code",
   "execution_count": null,
   "id": "6b988da5",
   "metadata": {},
   "outputs": [],
   "source": []
  }
 ],
 "metadata": {
  "kernelspec": {
   "display_name": "Python 3 (ipykernel)",
   "language": "python",
   "name": "python3"
  },
  "language_info": {
   "codemirror_mode": {
    "name": "ipython",
    "version": 3
   },
   "file_extension": ".py",
   "mimetype": "text/x-python",
   "name": "python",
   "nbconvert_exporter": "python",
   "pygments_lexer": "ipython3",
   "version": "3.10.13"
  }
 },
 "nbformat": 4,
 "nbformat_minor": 5
}
